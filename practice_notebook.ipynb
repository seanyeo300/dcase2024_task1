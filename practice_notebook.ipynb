{
 "cells": [
  {
   "cell_type": "markdown",
   "metadata": {},
   "source": [
    "# API Handling"
   ]
  },
  {
   "cell_type": "markdown",
   "metadata": {},
   "source": [
    "## Checking Datastructure  "
   ]
  },
  {
   "cell_type": "code",
   "execution_count": 28,
   "metadata": {},
   "outputs": [
    {
     "name": "stdout",
     "output_type": "stream",
     "text": [
      "> count: int, Level:0\n",
      "> next: str, Level:0\n",
      "> previous: NoneType, Level:0\n",
      "> results: list, Level:0\n",
      " >  List of 150 items, Level: 1\n",
      "  > name: str, Level:2\n",
      "  > url: str, Level:2\n",
      "{'name': 'bulbasaur', 'url': 'https://pokeapi.co/api/v2/pokemon/1/'}\n"
     ]
    }
   ],
   "source": [
    "import requests\n",
    "url = f\"https://pokeapi.co/api/v2/pokemon?limit=150\"\n",
    "def explore_json(data, level=0):\n",
    "    indent = \" \" * level\n",
    "    if isinstance(data,dict):\n",
    "        for key, value in data.items():\n",
    "            print(f\"{indent}> {key}: {type(value).__name__}, Level:{level}\")\n",
    "            explore_json(value, level + 1) # iterate through the next nested dictionary\n",
    "    elif isinstance(data,list):\n",
    "        print(f\"{indent}>  List of {len(data)} items, Level: {level}\")\n",
    "        if data:\n",
    "            explore_json(data[0], level + 1)\n",
    "data = requests.get(url).json()\n",
    "explore_json(data)\n",
    "\n",
    "print(data[\"results\"][0])\n"
   ]
  },
  {
   "cell_type": "code",
   "execution_count": 16,
   "metadata": {},
   "outputs": [
    {
     "name": "stdout",
     "output_type": "stream",
     "text": [
      "charizard,solar-power\n"
     ]
    }
   ],
   "source": [
    "import requests\n",
    "def get_hidden_ability(pokemon_id: int) -> str | bool:\n",
    "    \"\"\"\n",
    "    Retrieves the hidden ability of a Pokémon using the PokéAPI.\n",
    "    \n",
    "    Args:\n",
    "    pokemon_id (int): The Pokémon's ID.\n",
    "    \n",
    "    Returns:\n",
    "    str | bool: The name of the hidden ability, False if none exists, \n",
    "                or \"Invalid Pokémon ID\" if the request fails.\n",
    "    \"\"\"\n",
    "    url = f\"https://pokeapi.co/api/v2/pokemon/{pokemon_id}\"\n",
    "    response = requests.get(url)\n",
    "    if response.status_code != 200:\n",
    "        return \"Invalid Pokémon ID\"\n",
    "    data =response.json()\n",
    "    # print(data)\n",
    "    for ability in data[\"abilities\"]:\n",
    "        # print (ability)\n",
    "        if ability[\"is_hidden\"]:\n",
    "            # print(\"found the hidden ability\")\n",
    "            print(f\"{data['name']},{ability['ability']['name']}\")\n",
    "            # return the above instead when doing leetcode\n",
    "\n",
    "\n",
    "# This should be run for you in Leetcode\n",
    "get_hidden_ability(6)\n",
    "\n",
    "\n",
    "\n",
    "\n",
    "    # try:\n",
    "    #     response = requests.get(url)\n",
    "    #     if response.status_code != 200:\n",
    "    #         return \"Invalid Pokémon ID\"\n",
    "        \n",
    "    #     data = response.json()\n",
    "        \n",
    "    #     # Extract abilities and check for hidden ability\n",
    "    #     for ability in data[\"abilities\"]:\n",
    "    #         if ability[\"is_hidden\"]:\n",
    "    #             return ability[\"ability\"][\"name\"]\n",
    "        \n",
    "    #     return False  # No hidden ability found\n",
    "    \n",
    "    # except requests.exceptions.RequestException:\n",
    "    #     return \"Invalid Pokémon ID\"\n",
    "\n",
    "# Test cases\n",
    "test_cases = [6, 25, 9999]\n",
    "# for pokemon_id in test_cases:\n",
    "    # print(f\"Pokemon ID {pokemon_id}: {get_hidden_ability(pokemon_id)}\")"
   ]
  },
  {
   "cell_type": "markdown",
   "metadata": {},
   "source": [
    "## String Cleaning\n"
   ]
  },
  {
   "cell_type": "code",
   "execution_count": 45,
   "metadata": {},
   "outputs": [
    {
     "name": "stdout",
     "output_type": "stream",
     "text": [
      "the\n"
     ]
    },
    {
     "data": {
      "text/plain": [
       "4"
      ]
     },
     "execution_count": 45,
     "metadata": {},
     "output_type": "execute_result"
    }
   ],
   "source": [
    "from collections import Counter\n",
    "sentences = [\"the quick brown fox jumps over the wall\", \n",
    "          \"too many cooks spoil the broth\", \n",
    "          \"Games@pi is the greatest!\"]\n",
    "def most_frequent_word_count(sentences):\n",
    "    \"\"\"\n",
    "    Given a list of sentences, find the highest number of occurrences of any word across all sentences.\n",
    "    Only words consisting of alphabetic characters are considered.\n",
    "    \n",
    "    :param sentences: List of sentences (strings)\n",
    "    :return: The maximum frequency of any single word\n",
    "    \"\"\"\n",
    "    word_count = Counter()\n",
    "    if sentences:\n",
    "        for sentence in sentences: # extracts sentences from the list\n",
    "            for words in sentence.lower().split(): # extracts words from the sentence\n",
    "                if words.isalpha():\n",
    "                    word_count[words] += 1 # counts the number of words\n",
    "        \n",
    "        print(word_count.most_common(1)[0][0]) \n",
    "        #most_common returns a list of the n most common elements\n",
    "        #-and their counts from the most common to the least.(1) returns the most common word and its count.\n",
    "        # [0][0] returns the word only\n",
    "        return word_count.most_common(1)[0][1]\n",
    "    else:\n",
    "        return 0\n",
    "most_frequent_word_count(sentences)\n"
   ]
  },
  {
   "cell_type": "code",
   "execution_count": 41,
   "metadata": {},
   "outputs": [
    {
     "name": "stdout",
     "output_type": "stream",
     "text": [
      "4\n",
      "the\n",
      "Test Case 1: PASSED (Expected: 4, Got: 4)\n",
      "banana\n",
      "Test Case 2: PASSED (Expected: 4, Got: 4)\n",
      "hello\n",
      "Test Case 3: PASSED (Expected: 3, Got: 3)\n",
      "c\n",
      "Test Case 4: PASSED (Expected: 3, Got: 3)\n",
      "repeat\n",
      "Test Case 5: PASSED (Expected: 4, Got: 4)\n",
      "one\n",
      "Test Case 6: PASSED (Expected: 1, Got: 1)\n",
      "Test Case 7: PASSED (Expected: 0, Got: 0)\n"
     ]
    }
   ],
   "source": [
    "# Answer Key\n",
    "word_counts = Counter()\n",
    "\n",
    "for sentence in sentences:\n",
    "    words = sentence.lower().split()  # Split sentence into words, convert to lowercase\n",
    "    # Filter only alphabetic words (ignoring punctuation)\n",
    "    words = [word for word in words if word.isalpha()]\n",
    "    word_counts.update(words)  # Update frequency count\n",
    "\n",
    "print(max(word_counts.values(), default=0))  # Return the max frequency or 0 if empty\n",
    "\n",
    "# Driver function\n",
    "def test_most_frequent_word_count():\n",
    "    test_cases = [\n",
    "        ([\"the quick brown fox jumps over the wall\", \n",
    "          \"too many cooks spoil the broth\", \n",
    "          \"Games@pi is the greatest!\"], 4),  # \"the\" appears twice\n",
    "        \n",
    "        ([\"apple banana apple grape\", \n",
    "          \"banana orange banana apple\", \n",
    "          \"grape grape banana\"], 4),  # \"banana\" appears 3 times\n",
    "\n",
    "        ([\"Hello world!\", \n",
    "          \"Hello everyone.\", \n",
    "          \"Say hello to the world.\"], 3),  # \"hello\" appears 3 times (case insensitive)\n",
    "\n",
    "        ([\"A b c d\", \n",
    "          \"B c d e\", \n",
    "          \"C d e f\"], 3),  # \"c\" and \"d\" appear 3 times each\n",
    "\n",
    "        ([\"repeat repeat repeat repeat\"], 4),  # Single word repeated\n",
    "\n",
    "        ([\"one sentence only\"], 1),  # Each word appears once\n",
    "\n",
    "        ([], 0)  # Empty input\n",
    "    ]\n",
    "    \n",
    "    for i, (sentences, expected) in enumerate(test_cases):\n",
    "        result = most_frequent_word_count(sentences)\n",
    "        print(f\"Test Case {i+1}: {'PASSED' if result == expected else 'FAILED'} (Expected: {expected}, Got: {result})\")\n",
    "\n",
    "# Run the test cases\n",
    "test_most_frequent_word_count()"
   ]
  },
  {
   "cell_type": "markdown",
   "metadata": {},
   "source": [
    "# Time Series Anomaly Detection"
   ]
  },
  {
   "cell_type": "code",
   "execution_count": 26,
   "metadata": {},
   "outputs": [
    {
     "name": "stdout",
     "output_type": "stream",
     "text": [
      "0.0\n",
      "The time series is stationary\n",
      "[  1   2   3   4 100   6   7]\n",
      "Current element: 4 , Mean:17.571428571428573, std:33.708231902002574, z-score: 0.40261466726833295\n",
      "[  2   3   4 100   6   7   8]\n",
      "Current element: 100 , Mean:18.571428571428573, std:33.30318364385493, z-score: 2.44506868470506\n",
      "[  3   4 100   6   7   8   9]\n",
      "Current element: 6 , Mean:19.571428571428573, std:32.893147974516964, z-score: 0.4125913573836914\n",
      "[  4 100   6   7   8   9  10]\n",
      "Current element: 7 , Mean:20.571428571428573, std:32.47793599554338, z-score: 0.4178661037231812\n",
      "[100   6   7   8   9  10  11]\n",
      "Current element: 8 , Mean:21.571428571428573, std:32.05734657434634, z-score: 0.4233484683441957\n",
      "[ 6  7  8  9 10 11 12]\n",
      "Current element: 9 , Mean:9.0, std:2.0, z-score: 0.0\n",
      "Anomalies detected at indices: [4]\n"
     ]
    }
   ],
   "source": [
    "import numpy as np\n",
    "import matplotlib.pyplot as plt\n",
    "from statsmodels.tsa.stattools import adfuller\n",
    "\n",
    "# Function to detect anomalies based on sliding window average\n",
    "def detect_anomalies(time_series, window_size=7, threshold=2):\n",
    "    \"\"\"\n",
    "    Detect anomalies in a time series using a sliding window approach.\n",
    "    \n",
    "    :param time_series: 1D array of time series data\n",
    "    :param window_size: size of the sliding window\n",
    "    :param threshold: the factor by which the current point must deviate from the window average to be considered an anomaly\n",
    "    :return: List of indices where anomalies were detected\n",
    "    \"\"\"\n",
    "    #Preliminary check for stationarity\n",
    "    result = adfuller(time_series)\n",
    "    print(result[1])\n",
    "    if result[1] > 0.05:\n",
    "        print(\"The time series is not stationary\")\n",
    "        return\n",
    "    else:\n",
    "        print(\"The time series is stationary\")\n",
    "\n",
    "    anomalies = []\n",
    "    half_window = window_size//2\n",
    "    global_mean = np.mean(time_series)\n",
    "    c=0\n",
    "    # We set index range to be from half_window to len(time_series) - half_window to prevent index out of bounds\n",
    "    # print(range(half_window, len(time_series) - half_window))\n",
    "    for i in range(half_window, len(time_series) - half_window):\n",
    "        win = time_series[i-half_window:i+half_window+1] # +1 to include the current point\n",
    "        print(win)\n",
    "        window_mean = np.mean(win)\n",
    "        std = np.std(win)\n",
    "        print(f\"Current element: {time_series[i]} , Mean:{window_mean}, std:{std}, z-score: {abs(time_series[i]-window_mean)/std}\")\n",
    "        if abs(time_series[i] - window_mean) > threshold * std:\n",
    "            anomalies.append(i)\n",
    "    return anomalies\n",
    "\n",
    "time_series_1 = np.array([1, 2, 3, 4, 100, 6, 7, 8, 9, 10, 11, 12])\n",
    "#perform ADF test\n",
    "\n",
    "anomalies_1 = detect_anomalies(time_series_1)\n",
    "print(\"Anomalies detected at indices:\", anomalies_1)"
   ]
  },
  {
   "cell_type": "markdown",
   "metadata": {},
   "source": [
    "## Answer Key"
   ]
  },
  {
   "cell_type": "code",
   "execution_count": null,
   "metadata": {},
   "outputs": [],
   "source": [
    "# import numpy as np\n",
    "# import matplotlib.pyplot as plt\n",
    "\n",
    "# # Function to detect anomalies based on sliding window average\n",
    "# def detect_anomalies(time_series, window_size=5, threshold=2.0):\n",
    "#     \"\"\"\n",
    "#     Detect anomalies in a time series using a sliding window approach.\n",
    "    \n",
    "#     :param time_series: 1D array of time series data\n",
    "#     :param window_size: size of the sliding window\n",
    "#     :param threshold: the factor by which the current point must deviate from the window average to be considered an anomaly\n",
    "#     :return: List of indices where anomalies were detected\n",
    "#     \"\"\"\n",
    "#     anomalies = []\n",
    "#     half_window = window_size // 2\n",
    "    \n",
    "#     for i in range(half_window, len(time_series) - half_window):\n",
    "#         # Define the window\n",
    "#         window = time_series[i - half_window:i + half_window + 1]\n",
    "        \n",
    "#         # Calculate the mean of the window\n",
    "#         window_mean = np.mean(window)\n",
    "        \n",
    "#         # Compare current point with the window mean\n",
    "#         if abs(time_series[i] - window_mean) > threshold * np.std(window):\n",
    "#             anomalies.append(i)\n",
    "    \n",
    "#     return anomalies\n",
    "\n",
    "# # Example test case 1\n",
    "# time_series_1 = np.array([1, 2, 3, 4, 100, 6, 7, 8, 9, 10, 11, 12])\n",
    "# anomalies_1 = detect_anomalies(time_series_1)\n",
    "# print(\"Anomalies detected at indices:\", anomalies_1)\n",
    "\n",
    "# # Example test case 2\n",
    "# time_series_2 = np.array([5, 5, 5, 5, 5, 5, 5, 10, 5, 5, 5, 5])\n",
    "# anomalies_2 = detect_anomalies(time_series_2)\n",
    "# print(\"Anomalies detected at indices:\", anomalies_2)\n",
    "\n",
    "# # Example test case 3\n",
    "# time_series_3 = np.random.normal(0, 1, 50)  # Random data\n",
    "# time_series_3[10] = 15  # Add a spike\n",
    "# time_series_3[25] = -10  # Add another spike\n",
    "# anomalies_3 = detect_anomalies(time_series_3)\n",
    "# print(\"Anomalies detected at indices:\", anomalies_3)\n",
    "\n",
    "# # Plot the time series with anomalies highlighted\n",
    "# def plot_anomalies(time_series, anomalies):\n",
    "#     plt.figure(figsize=(10, 6))\n",
    "#     plt.plot(time_series, label=\"Time Series\")\n",
    "#     plt.scatter(anomalies, time_series[anomalies], color='red', label=\"Anomalies\", zorder=5)\n",
    "#     plt.legend()\n",
    "#     plt.show()\n",
    "\n",
    "# # Plot anomalies for test case 1\n",
    "# plot_anomalies(time_series_1, anomalies_1)\n"
   ]
  },
  {
   "cell_type": "markdown",
   "metadata": {},
   "source": [
    "# 3 Pointer (3SumClosest)"
   ]
  },
  {
   "cell_type": "code",
   "execution_count": null,
   "metadata": {},
   "outputs": [
    {
     "name": "stdout",
     "output_type": "stream",
     "text": [
      "2\n"
     ]
    }
   ],
   "source": [
    "from typing import List\n",
    "\n",
    "def threeSumClosest(nums: List[int], target: int) -> int:\n",
    "    nums=sorted(nums)                           # sort so larger numbers are at the end\n",
    "    diff=float('inf')                           # initialize diff to infinity\n",
    "    for i in range(len(nums)-1):                # loop through the sorted list\n",
    "        start=i+1                               # 1st Pointer starts on the 2nd element\n",
    "        end=len(nums)-1                         # 3rd Pointer starts on the last element\n",
    "        while(start<end):                       # loop through the list until start and end meet\n",
    "            sum=nums[i]+nums[start]+nums[end]   # sum of the 3 numbers\n",
    "            if sum==target:                     # special case where sum is equal to target\n",
    "                return target\n",
    "            elif abs(target-sum)<diff:          # checks if our current sum is closer than the previous one\n",
    "                diff=abs(target-sum)            # update diff to the new closest sum\n",
    "                ans=sum                         # update ans to the new closest sum\n",
    "            if sum>target:                      # Too large, move the end pointer left\n",
    "                end-=1\n",
    "            else:\n",
    "                start+=1                        # Too small, move the start pointer right\n",
    "    return ans\n",
    "nums = [-1,2,1,-4]\n",
    "target = 1\n",
    "print(threeSumClosest(nums, target)) # 2"
   ]
  },
  {
   "cell_type": "markdown",
   "metadata": {},
   "source": [
    "# 4 Sum"
   ]
  },
  {
   "cell_type": "code",
   "execution_count": null,
   "metadata": {},
   "outputs": [],
   "source": [
    "class Solution:\n",
    "    def fourSum(self, nums: List[int], target: int) -> List[List[int]]:\n",
    "        nums.sort()  # Sort the array to enable two pointers technique and easy duplicate skipping\n",
    "        n = len(nums)\n",
    "        ans = []  # Final list to collect all unique quadruplets\n",
    "        \n",
    "        i = 0\n",
    "        while i < n:\n",
    "            j = i + 1\n",
    "            while j < n:\n",
    "                l, r = j + 1, n - 1  # Initialize two pointers after j\n",
    "                goal = target - nums[i] - nums[j]  # Remaining sum needed from nums[l] + nums[r]\n",
    "                \n",
    "                while l < r:\n",
    "                    current_sum = nums[l] + nums[r]\n",
    "                    if current_sum == goal:\n",
    "                        ans.append([nums[i], nums[j], nums[l], nums[r]])\n",
    "                        \n",
    "                        # Skip duplicates for the third number (nums[l])\n",
    "                        while l+1 < n and nums[l+1] == nums[l]: \n",
    "                            l += 1\n",
    "                        l += 1  # Move l to the next distinct element\n",
    "                        r -= 1  # Always move r after a valid quadruplet\n",
    "                        \n",
    "                    elif current_sum > goal:\n",
    "                        r -= 1  # If sum is too big, decrease it by moving right pointer left\n",
    "                    else:\n",
    "                        l += 1  # If sum is too small, increase it by moving left pointer right\n",
    "                \n",
    "                # After finishing all (l, r) for a fixed (i, j), skip duplicates for the second number (nums[j])\n",
    "                while j+1 < n and nums[j+1] == nums[j]: \n",
    "                    j += 1\n",
    "                j += 1  # Move to the next distinct j\n",
    "            \n",
    "            # After finishing all (j, l, r) for a fixed i, skip duplicates for the first number (nums[i])\n",
    "            while i+1 < n and nums[i+1] == nums[i]: \n",
    "                i += 1\n",
    "            i += 1  # Move to the next distinct i\n",
    "        \n",
    "        return ans  # Return all unique quadruplets\n"
   ]
  },
  {
   "cell_type": "markdown",
   "metadata": {},
   "source": [
    "# Top K Elements"
   ]
  },
  {
   "cell_type": "code",
   "execution_count": null,
   "metadata": {},
   "outputs": [],
   "source": [
    "class Solution:\n",
    "    def topKFrequent(self, nums: List[int], k: int) -> List[int]:\n",
    "        \n",
    "        count = {}  # Dictionary to count the frequency of each element in nums\n",
    "        \n",
    "        # Step 1: Count occurrences of each element\n",
    "        for i in nums:\n",
    "            count[i] = 1 + count.get(i, 0)  # Increment count if exists, otherwise initialize to 1\n",
    "        \n",
    "        res = []  # Final list to store the k most frequent elements\n",
    "        l = []    # Temporary list to store (count, element) pairs\n",
    "        \n",
    "        # Step 2: Build a list of (frequency, element) pairs\n",
    "        for n, c in count.items():\n",
    "            l.append((c, n))  # Store count first to enable sorting by frequency\n",
    "        \n",
    "        l.sort()  # Step 3: Sort by frequency in ascending order (lowest to highest)\n",
    "        \n",
    "        # Step 4: Pop elements with highest frequency until we have k elements\n",
    "        while len(res) < k:\n",
    "            res.append(l.pop()[1])  # Pop from the end (highest frequency) and append the element (not the count)\n",
    "        \n",
    "        return res  # Step 5: Return the list of top k frequent elements\n"
   ]
  },
  {
   "cell_type": "markdown",
   "metadata": {},
   "source": [
    "# Sort Characters by Frequency"
   ]
  },
  {
   "cell_type": "code",
   "execution_count": null,
   "metadata": {},
   "outputs": [],
   "source": [
    "import collections\n",
    "class Solution:\n",
    "    \"\"\"\n",
    "    This class contains a method to sort characters in a string based on their frequency.\n",
    "    \"\"\"\n",
    "    def frequencySort(self, s: str) -> str:\n",
    "        # Step 1: Count occurrences manually\n",
    "        cnt = collections.defaultdict(int)\n",
    "        for c in s:\n",
    "            cnt[c] += 1\n",
    "        # Now, cnt maps each character to its frequency\n",
    "        # Example: \"tree\" -> {'t': 1, 'r': 1, 'e': 2}\n",
    "        \n",
    "        res = []  # Step 2: Result list to accumulate repeated characters\n",
    "\n",
    "        # Step 3: Sort characters by frequency descending\n",
    "        for k, v in sorted(cnt.items(), key=lambda x: -x[1]):\n",
    "            res += [k] * v  # Repeat character `k` exactly `v` times\n",
    "\n",
    "        # Step 4: Join all characters into a final string\n",
    "        return \"\".join(res)\n"
   ]
  }
 ],
 "metadata": {
  "kernelspec": {
   "display_name": "dcase_sean",
   "language": "python",
   "name": "python3"
  },
  "language_info": {
   "codemirror_mode": {
    "name": "ipython",
    "version": 3
   },
   "file_extension": ".py",
   "mimetype": "text/x-python",
   "name": "python",
   "nbconvert_exporter": "python",
   "pygments_lexer": "ipython3",
   "version": "3.10.9"
  }
 },
 "nbformat": 4,
 "nbformat_minor": 2
}
